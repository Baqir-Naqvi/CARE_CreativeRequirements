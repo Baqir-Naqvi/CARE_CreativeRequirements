{
 "cells": [
  {
   "cell_type": "code",
   "execution_count": 1,
   "metadata": {},
   "outputs": [
    {
     "name": "stdout",
     "output_type": "stream",
     "text": [
      "Similarity score between 'user play tournament' and 'allow user create teams tournament': 0.6420580148696899\n"
     ]
    }
   ],
   "source": [
    "from sentence_transformers import SentenceTransformer\n",
    "import numpy as np\n",
    "from sklearn.metrics.pairwise import cosine_similarity\n",
    "\n",
    "# Load a pre-trained Sentence Transformer model\n",
    "model = SentenceTransformer('paraphrase-distilroberta-base-v1')\n",
    "\n"
   ]
  },
  {
   "cell_type": "code",
   "execution_count": null,
   "metadata": {},
   "outputs": [],
   "source": []
  },
  {
   "cell_type": "code",
   "execution_count": 5,
   "metadata": {},
   "outputs": [
    {
     "name": "stdout",
     "output_type": "stream",
     "text": [
      "Similarity score between 'user play tournament' and 'allow user to play tournament': 0.7094552516937256\n"
     ]
    }
   ],
   "source": [
    "def calculate_similarity_score(sentence1, sentence2, model):\n",
    "    # Generate embeddings for both sentences\n",
    "    embeddings = model.encode([sentence1, sentence2])\n",
    "\n",
    "    # Compute cosine similarity between the embeddings\n",
    "    similarity = cosine_similarity(embeddings[0].reshape(1, -1), embeddings[1].reshape(1, -1))\n",
    "\n",
    "    # Extract the similarity score (a value between -1 and 1)\n",
    "    similarity_score = similarity.item()\n",
    "\n",
    "    return similarity_score\n",
    "\n",
    "# Example usage\n",
    "sentence1 = \"user play tournament\"\n",
    "sentence2 = \"allow user to play tournament\"\n",
    "similarity_score = calculate_similarity_score(sentence1, sentence2, model)\n",
    "print(f\"Similarity score between '{sentence1}' and '{sentence2}': {similarity_score}\")"
   ]
  }
 ],
 "metadata": {
  "kernelspec": {
   "display_name": "base",
   "language": "python",
   "name": "python3"
  },
  "language_info": {
   "codemirror_mode": {
    "name": "ipython",
    "version": 3
   },
   "file_extension": ".py",
   "mimetype": "text/x-python",
   "name": "python",
   "nbconvert_exporter": "python",
   "pygments_lexer": "ipython3",
   "version": "3.9.13"
  },
  "orig_nbformat": 4
 },
 "nbformat": 4,
 "nbformat_minor": 2
}
