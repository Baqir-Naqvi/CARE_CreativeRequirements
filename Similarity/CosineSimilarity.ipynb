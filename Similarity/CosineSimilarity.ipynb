{
 "cells": [
  {
   "cell_type": "code",
   "execution_count": 1,
   "metadata": {},
   "outputs": [
    {
     "name": "stdout",
     "output_type": "stream",
     "text": [
      "Cosine similarity between the two sentences: 0.52\n"
     ]
    }
   ],
   "source": [
    "from sklearn.feature_extraction.text import CountVectorizer\n",
    "from sklearn.metrics.pairwise import cosine_similarity\n",
    "\n",
    "# read the data from the file\n",
    "\n",
    "\n",
    "def calculate_cosine_similarity(sentence1, sentence2):\n",
    "    vectorizer = CountVectorizer()\n",
    "    sentences = [sentence1, sentence2]\n",
    "    \n",
    "    # Create bag of words representation for each sentence\n",
    "    bag_of_words = vectorizer.fit_transform(sentences)\n",
    "\n",
    "    # Calculate cosine similarity\n",
    "    similarity = cosine_similarity(bag_of_words[0], bag_of_words[1])\n",
    "    \n",
    "    return similarity[0][0]\n",
    "\n",
    "if __name__ == \"__main__\":\n",
    "    sentence1 = \"user play tournament\"\n",
    "    sentence2 = \"allow user create teams tournament\"\n",
    "\n",
    "    similarity = calculate_cosine_similarity(sentence1, sentence2)\n",
    "    print(f\"Cosine similarity between the two sentences: {similarity:.2f}\")\n"
   ]
  }
 ],
 "metadata": {
  "kernelspec": {
   "display_name": "base",
   "language": "python",
   "name": "python3"
  },
  "language_info": {
   "codemirror_mode": {
    "name": "ipython",
    "version": 3
   },
   "file_extension": ".py",
   "mimetype": "text/x-python",
   "name": "python",
   "nbconvert_exporter": "python",
   "pygments_lexer": "ipython3",
   "version": "3.9.13"
  },
  "orig_nbformat": 4
 },
 "nbformat": 4,
 "nbformat_minor": 2
}
